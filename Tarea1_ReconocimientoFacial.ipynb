{
 "cells": [
  {
   "cell_type": "markdown",
   "id": "cbd1af97",
   "metadata": {},
   "source": [
    "# Reconocimiento facial\n",
    "\n",
    "##### El objetivo de este proyecto es desarrollar un sistema de reconocimiento facial capaz de identificar a cinco personas diferentes utilizando tres algoritmos de reconocimiento facial:\n",
    "\n",
    "- EigenFace\n",
    "- FisherFace \n",
    "- LBPH (Local Binary Patterns Histograms).\n",
    "\n",
    "##### El sistema utilizará imágenes de entrenamiento de las cinco personas objetivo para construir modelos de reconocimiento facial con cada algoritmo. Una vez entrenados, estos modelos serán capaces de reconocer y etiquetar las caras de las cinco personas en tiempo real.\n",
    "\n",
    "##### Importar librerias."
   ]
  },
  {
   "cell_type": "code",
   "execution_count": 2,
   "id": "59cab4ec",
   "metadata": {},
   "outputs": [],
   "source": [
    "import numpy as np \n",
    "import cv2 as cv\n",
    "import os\n",
    "\n",
    "faces = cv.CascadeClassifier(cv.data.haarcascades +'haarcascade_frontalface_alt.xml')"
   ]
  },
  {
   "cell_type": "markdown",
   "id": "58d57be2",
   "metadata": {},
   "source": [
    "#### Función para recortar las fotografías a una dimensión uniforme. "
   ]
  },
  {
   "cell_type": "code",
   "execution_count": 2,
   "id": "533f16bb",
   "metadata": {},
   "outputs": [],
   "source": [
    "def escala(imx, escala):\n",
    "    width = int(imx.shape[1] * escala / 100)\n",
    "    height = int(imx.shape[0] * escala / 100)\n",
    "    size = (width, height)\n",
    "    im = cv.resize(imx, size, interpolation = cv.INTER_AREA)\n",
    "    return im"
   ]
  },
  {
   "cell_type": "markdown",
   "id": "9ffc08a9",
   "metadata": {},
   "source": [
    "##### El código anterior es un código que ayuda a realizar la recopilación de las fotos de los rostros. Este código fue ejecutado en 5 ocasiones para lograr capturar la información necesaria para dedicar a los modelos. "
   ]
  },
  {
   "cell_type": "code",
   "execution_count": null,
   "id": "92cad3b6",
   "metadata": {},
   "outputs": [],
   "source": [
    "cap = cv.VideoCapture(0)\n",
    "i = 0 \n",
    "\n",
    "while True:\n",
    "    ret, frame = cap.read()\n",
    "    gray = cv.cvtColor(frame, cv.COLOR_BGR2GRAY)\n",
    "    rostros = rostro.detectMultiScale(gray, scaleFactor=1.3, minNeighbors=5)\n",
    "\n",
    "    for (x, y, w, h) in rostros:\n",
    "        cv.rectangle(frame, (x, y), (x+w, y+h), (0, 255, 0), 2)\n",
    "        cara_recortada = frame[y:y+h, x:x+w]\n",
    "        cara_recortada = cv.resize(cara_recortada, (100, 100), interpolation=cv.INTER_AREA)\n",
    "        cv.imwrite('D:/IA/caras/brenda/img' + str(i) + '.png', cara_recortada)\n",
    "\n",
    "    cv.imshow('rostros', frame)\n",
    "    i += 1\n",
    "    #print(i)\n",
    "\n",
    "    k = cv.waitKey(1)\n",
    "    if k == 27:\n",
    "        break\n",
    "\n",
    "cap.release()\n",
    "cv.destroyAllWindows()"
   ]
  },
  {
   "cell_type": "markdown",
   "id": "8d20245b",
   "metadata": {},
   "source": [
    "#### El siguiente código se recopila las imágenes y las etiquetas con el objetivo de crear el dataset con el cual serán educados los modelos. "
   ]
  },
  {
   "cell_type": "code",
   "execution_count": 3,
   "id": "c31728ee",
   "metadata": {},
   "outputs": [
    {
     "name": "stdout",
     "output_type": "stream",
     "text": [
      "['rodrigo', 'abimael', 'dante', 'leo', 'brenda']\n"
     ]
    }
   ],
   "source": [
    "dataSet = 'D:/IA/caras'\n",
    "faces  = os.listdir(dataSet)\n",
    "print(faces)"
   ]
  },
  {
   "cell_type": "markdown",
   "id": "bd0c8400",
   "metadata": {},
   "source": [
    "## Modelo 1 \"EigenFace\""
   ]
  },
  {
   "cell_type": "code",
   "execution_count": 3,
   "id": "bb88c1b0",
   "metadata": {},
   "outputs": [
    {
     "name": "stdout",
     "output_type": "stream",
     "text": [
      "['rodrigo', 'abimael', 'dante', 'leo', 'brenda']\n",
      "983\n"
     ]
    }
   ],
   "source": [
    "dataSet = 'D:/IA/caras'\n",
    "faces  = os.listdir(dataSet)\n",
    "print(faces)\n",
    "\n",
    "labels = []\n",
    "facesData = []\n",
    "label = 0 \n",
    "for face in faces:\n",
    "    facePath = dataSet+'/'+face\n",
    "    for faceName in os.listdir(facePath):\n",
    "        labels.append(label)\n",
    "        facesData.append(cv.imread(facePath+'/'+faceName,0))\n",
    "    label = label + 1\n",
    "print(np.count_nonzero(np.array(labels)==0)) \n",
    "\n",
    "faceRecognizer = cv.face.EigenFaceRecognizer_create()\n",
    "faceRecognizer.train(facesData, np.array(labels))\n",
    "faceRecognizer.write('face.xml')\n"
   ]
  },
  {
   "cell_type": "code",
   "execution_count": null,
   "id": "34313769",
   "metadata": {},
   "outputs": [],
   "source": [
    "faceRecognizer = cv.face.EigenFaceRecognizer_create()\n",
    "faceRecognizer.read('face.xml')\n",
    "\n",
    "cap = cv.VideoCapture(0)\n",
    "rostro = cv.CascadeClassifier(cv.data.haarcascades + 'haarcascade_frontalface_alt.xml')\n",
    "\n",
    "while True:\n",
    "    ret, frame = cap.read()\n",
    "    if not ret:break\n",
    "\n",
    "    gray = cv.cvtColor(frame, cv.COLOR_BGR2GRAY)\n",
    "    cpGray = gray.copy()\n",
    "\n",
    "    rostros = rostro.detectMultiScale(gray, 1.3, 3)\n",
    "\n",
    "    for (x, y, w, h) in rostros:\n",
    "        frame2 = cpGray[y:y + h, x:x + w]\n",
    "        frame2 = cv.resize(frame2, (100, 100), interpolation=cv.INTER_CUBIC)\n",
    "        result = faceRecognizer.predict(frame2)\n",
    "\n",
    "        if result[1] > 5700: #3800\n",
    "            cv.putText(frame, '{}'.format(faces[result[0]]), (x, y - 25), 2, 1.1, (0, 255, 0), 1, cv.LINE_AA)\n",
    "            cv.rectangle(frame, (x, y), (x + w, y + h), (0, 255, 0), 2)\n",
    "        else:\n",
    "            cv.putText(frame, 'Desconocido', (x, y - 20), 2, 0.8, (0, 0, 255), 1, cv.LINE_AA)\n",
    "            cv.rectangle(frame, (x, y), (x + w, y + h), (0, 0, 255), 2)\n",
    "\n",
    "    cv.imshow('frame', frame)\n",
    "    k = cv.waitKey(1)\n",
    "    if k == 27:\n",
    "        break\n",
    "\n",
    "cap.release()\n",
    "cv.destroyAllWindows()\n",
    "\n"
   ]
  },
  {
   "cell_type": "markdown",
   "id": "eb706f15",
   "metadata": {},
   "source": [
    "## Modelo 2 \"FisherFace\""
   ]
  },
  {
   "cell_type": "code",
   "execution_count": 9,
   "id": "e30fcd8f",
   "metadata": {},
   "outputs": [],
   "source": [
    "import time"
   ]
  },
  {
   "cell_type": "code",
   "execution_count": 6,
   "id": "b40f40d6",
   "metadata": {},
   "outputs": [
    {
     "name": "stdout",
     "output_type": "stream",
     "text": [
      "['rodrigo', 'abimael', 'dante', 'leo', 'brenda']\n",
      "983\n"
     ]
    }
   ],
   "source": [
    "dataSet = 'D:/IA/caras'\n",
    "faces  = os.listdir(dataSet)\n",
    "print(faces)\n",
    "\n",
    "labels = []\n",
    "facesData = []\n",
    "label = 0 \n",
    "for face in faces:\n",
    "    facePath = dataSet+'/'+face\n",
    "    for faceName in os.listdir(facePath):\n",
    "        labels.append(label)\n",
    "        facesData.append(cv.imread(facePath+'/'+faceName,0))\n",
    "    label = label + 1\n",
    "print(np.count_nonzero(np.array(labels)==0)) \n",
    "\n",
    "FisherFace = cv.face.FisherFaceRecognizer_create()\n",
    "start_time = time.time()\n",
    "FisherFace.train(facesData, np.array(labels))\n",
    "training_time = time.time() - start_time\n",
    "FisherFace.write('face2.xml')"
   ]
  },
  {
   "cell_type": "code",
   "execution_count": 7,
   "id": "e2e652ba",
   "metadata": {},
   "outputs": [
    {
     "name": "stdout",
     "output_type": "stream",
     "text": [
      "Tiempo de entrenamiento modelo \"FisherFace\" : 5431.443983078003 segundos\n"
     ]
    }
   ],
   "source": [
    "print(f'Tiempo de entrenamiento modelo \"FisherFace\" : {training_time} segundos')"
   ]
  },
  {
   "cell_type": "code",
   "execution_count": 6,
   "id": "7a8845be",
   "metadata": {},
   "outputs": [],
   "source": [
    "FisherFace = cv.face.FisherFaceRecognizer_create()\n",
    "FisherFace.read('face2.xml')\n",
    "\n",
    "cap = cv.VideoCapture(0)\n",
    "rostro = cv.CascadeClassifier(cv.data.haarcascades +'haarcascade_frontalface_alt.xml')\n",
    "while True:\n",
    "    ret, frame = cap.read()\n",
    "    if ret == False: break\n",
    "    gray = cv.cvtColor(frame, cv.COLOR_BGR2GRAY)\n",
    "    cpGray = gray.copy()\n",
    "    rostros = rostro.detectMultiScale(gray, 1.3, 3)\n",
    "    for(x, y, w, h) in rostros:\n",
    "        frame2 = cpGray[y:y+h, x:x+w]\n",
    "        frame2 = cv.resize(frame2,  (100,100), interpolation=cv.INTER_CUBIC)\n",
    "        result = FisherFace.predict(frame2)\n",
    "        if result[1] > 500:\n",
    "            cv.putText(frame,'{}'.format(faces[result[0]]),(x,y-25),2,1.1,(0,255,0),1,cv.LINE_AA)\n",
    "            cv.rectangle(frame, (x,y),(x+w,y+h),(0,255,0),2)\n",
    "        else:\n",
    "            cv.putText(frame,'Desconocido',(x,y-20),2,0.8,(0,0,255),1,cv.LINE_AA)\n",
    "            cv.rectangle(frame, (x,y),(x+w,y+h),(0,0,255),2)\n",
    "    cv.imshow('frame', frame)\n",
    "    k = cv.waitKey(1)\n",
    "    if k == 27:\n",
    "        break\n",
    "cap.release()\n",
    "cv.destroyAllWindows()\n"
   ]
  },
  {
   "cell_type": "markdown",
   "id": "1838b3d0",
   "metadata": {},
   "source": [
    "## Modelo 3 \"LBPH\""
   ]
  },
  {
   "cell_type": "code",
   "execution_count": 10,
   "id": "a5beb579",
   "metadata": {},
   "outputs": [
    {
     "name": "stdout",
     "output_type": "stream",
     "text": [
      "['rodrigo', 'abimael', 'dante', 'leo', 'brenda']\n",
      "983\n"
     ]
    }
   ],
   "source": [
    "dataSet = 'D:/IA/caras'\n",
    "faces  = os.listdir(dataSet)\n",
    "print(faces)\n",
    "\n",
    "labels = []\n",
    "facesData = []\n",
    "label = 0 \n",
    "for face in faces:\n",
    "    facePath = dataSet+'/'+face\n",
    "    for faceName in os.listdir(facePath):\n",
    "        labels.append(label)\n",
    "        facesData.append(cv.imread(facePath+'/'+faceName,0))\n",
    "    label = label + 1\n",
    "print(np.count_nonzero(np.array(labels)==0)) \n",
    "\n",
    "LBPHFace = cv.face.LBPHFaceRecognizer_create()\n",
    "start_time = time.time()\n",
    "LBPHFace.train(facesData, np.array(labels))\n",
    "training_time = time.time() - start_time\n",
    "LBPHFace.write('face3.xml')"
   ]
  },
  {
   "cell_type": "code",
   "execution_count": 11,
   "id": "65e8621c",
   "metadata": {},
   "outputs": [
    {
     "name": "stdout",
     "output_type": "stream",
     "text": [
      "Tiempo de entrenamiento modelo \"LBPH\" : 4.7530837059021 segundos\n"
     ]
    }
   ],
   "source": [
    "print(f'Tiempo de entrenamiento modelo \"LBPH\" : {training_time} segundos')"
   ]
  },
  {
   "cell_type": "code",
   "execution_count": 13,
   "id": "d728c3db",
   "metadata": {},
   "outputs": [],
   "source": [
    "LBPHFace = cv.face.LBPHFaceRecognizer_create()\n",
    "LBPHFace.read('face3.xml')\n",
    "\n",
    "cap = cv.VideoCapture(0)\n",
    "rostro = cv.CascadeClassifier(cv.data.haarcascades +'haarcascade_frontalface_alt.xml')\n",
    "while True:\n",
    "    ret, frame = cap.read()\n",
    "    if ret == False: break\n",
    "    gray = cv.cvtColor(frame, cv.COLOR_BGR2GRAY)\n",
    "    cpGray = gray.copy()\n",
    "    rostros = rostro.detectMultiScale(gray, 1.3, 3)\n",
    "    for(x, y, w, h) in rostros:\n",
    "        frame2 = cpGray[y:y+h, x:x+w]\n",
    "        frame2 = cv.resize(frame2,  (100,100), interpolation=cv.INTER_CUBIC)\n",
    "        result = FisherFace.predict(frame2)\n",
    "        if result[1] > 70:\n",
    "            cv.putText(frame,'{}'.format(faces[result[0]]),(x,y-25),2,1.1,(0,255,0),1,cv.LINE_AA)\n",
    "            cv.rectangle(frame, (x,y),(x+w,y+h),(0,255,0),2)\n",
    "        else:\n",
    "            cv.putText(frame,'Desconocido',(x,y-20),2,0.8,(0,0,255),1,cv.LINE_AA)\n",
    "            cv.rectangle(frame, (x,y),(x+w,y+h),(0,0,255),2)\n",
    "    cv.imshow('frame', frame)\n",
    "    k = cv.waitKey(1)\n",
    "    if k == 27:\n",
    "        break\n",
    "cap.release()\n",
    "cv.destroyAllWindows()"
   ]
  }
 ],
 "metadata": {
  "kernelspec": {
   "display_name": "Python 3 (ipykernel)",
   "language": "python",
   "name": "python3"
  },
  "language_info": {
   "codemirror_mode": {
    "name": "ipython",
    "version": 3
   },
   "file_extension": ".py",
   "mimetype": "text/x-python",
   "name": "python",
   "nbconvert_exporter": "python",
   "pygments_lexer": "ipython3",
   "version": "3.11.4"
  }
 },
 "nbformat": 4,
 "nbformat_minor": 5
}
